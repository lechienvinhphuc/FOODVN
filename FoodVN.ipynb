{
  "nbformat": 4,
  "nbformat_minor": 0,
  "metadata": {
    "colab": {
      "name": "FoodVN.ipynb",
      "provenance": []
    },
    "kernelspec": {
      "name": "python3",
      "display_name": "Python 3"
    },
    "language_info": {
      "name": "python"
    }
  },
  "cells": [
    {
      "cell_type": "code",
      "execution_count": null,
      "metadata": {
        "id": "IR_kFkmcuB8I"
      },
      "outputs": [],
      "source": [
        "import tensorflow as tf\n",
        "import matplotlib.pyplot as plt\n",
        "import numpy as np\n",
        "from tensorflow import keras\n",
        "from keras.models import Sequential\n",
        "from keras.layers.convolutional import Conv2D, MaxPooling2D\n",
        "from keras.layers import Flatten, Dense, Dropout, Activation\n",
        "from google.colab import drive\n",
        "from tensorflow.keras.preprocessing.image import ImageDataGenerator\n",
        "from tensorflow.keras.callbacks import EarlyStopping\n",
        "from tensorflow.keras.utils import load_img,img_to_array\n"
      ]
    },
    {
      "cell_type": "code",
      "source": [
        "#conect drive\n",
        "drive.mount('/content/drive')"
      ],
      "metadata": {
        "colab": {
          "base_uri": "https://localhost:8080/"
        },
        "id": "rtswpNczuQWE",
        "outputId": "312ca4d8-04b5-40db-ec1f-8a5cb59827fe"
      },
      "execution_count": null,
      "outputs": [
        {
          "output_type": "stream",
          "name": "stdout",
          "text": [
            "Drive already mounted at /content/drive; to attempt to forcibly remount, call drive.mount(\"/content/drive\", force_remount=True).\n"
          ]
        }
      ]
    },
    {
      "cell_type": "code",
      "source": [
        "#create data\n",
        "drive.mount('/content/drive',force_remount=True)\n",
        "train_datagen = ImageDataGenerator(rescale=1./255,\n",
        "                                   shear_range=0.2,\n",
        "                                   zoom_range=0.2,\n",
        "                                   horizontal_flip=True)\n",
        "train=train_datagen.flow_from_directory('/content/drive/MyDrive/Colab Notebooks/FOOD',\n",
        "                                          target_size=(128,128),\n",
        "                                          batch_size=32,\n",
        "                                          class_mode ='categorical')\n",
        "test=train_datagen.flow_from_directory('/content/drive/MyDrive/Colab Notebooks/FOOD',\n",
        "                                          target_size=(128,128),\n",
        "                                          batch_size=32,\n",
        "                                          class_mode ='categorical')"
      ],
      "metadata": {
        "colab": {
          "base_uri": "https://localhost:8080/"
        },
        "id": "EPX2hXXvuTj0",
        "outputId": "b421305c-c6ee-49f7-99b6-424ffd493f11"
      },
      "execution_count": null,
      "outputs": [
        {
          "output_type": "stream",
          "name": "stdout",
          "text": [
            "Mounted at /content/drive\n",
            "Found 30 images belonging to 10 classes.\n",
            "Found 30 images belonging to 10 classes.\n"
          ]
        }
      ]
    },
    {
      "cell_type": "code",
      "source": [
        "#create model\n",
        "model=Sequential()\n",
        "\n",
        "model.add(Conv2D(128,(3,3),activation='relu',kernel_initializer='he_uniform',padding='same',input_shape=(128,128,3)))\n",
        "model.add(MaxPooling2D(pool_size=(2,2)))\n",
        "model.add(Conv2D(64,(3,3),activation='relu',kernel_initializer='he_uniform',padding='same'))\n",
        "model.add(MaxPooling2D((2,2)))\n",
        "model.add(Conv2D(32,(3,3),activation='relu',kernel_initializer='he_uniform',padding='same'))\n",
        "model.add(MaxPooling2D((2,2)))\n",
        "\n",
        "model.add(Flatten())\n",
        "model.add(Dense(64,activation='relu',kernel_initializer = 'he_uniform'))\n",
        "model.add(Dense(10,activation='Softmax'))\n",
        "\n",
        "model.compile(optimizer = 'adam', loss ='categorical_crossentropy',metrics = ['accuracy'])\n",
        "callbacks=[EarlyStopping(monitor='val_loss',patience=100)]\n",
        "history=model.fit(train,\n",
        "                  steps_per_epoch=len(train),\n",
        "                  batch_size = 100,\n",
        "                  epochs=50,\n",
        "                  validation_data=test,\n",
        "                  validation_steps=len(test),\n",
        "                  callbacks=callbacks,\n",
        "                  verbose = 1)"
      ],
      "metadata": {
        "colab": {
          "base_uri": "https://localhost:8080/"
        },
        "id": "rFg7XjYvuWq-",
        "outputId": "d5cc27e7-c6bd-4d54-a93d-3293fed3649e"
      },
      "execution_count": null,
      "outputs": [
        {
          "output_type": "stream",
          "name": "stdout",
          "text": [
            "Epoch 1/50\n",
            "1/1 [==============================] - 4s 4s/step - loss: 2.7806 - accuracy: 0.1000 - val_loss: 4.0152 - val_accuracy: 0.1000\n",
            "Epoch 2/50\n",
            "1/1 [==============================] - 3s 3s/step - loss: 4.0435 - accuracy: 0.1000 - val_loss: 2.9503 - val_accuracy: 0.1000\n",
            "Epoch 3/50\n",
            "1/1 [==============================] - 3s 3s/step - loss: 2.9065 - accuracy: 0.1000 - val_loss: 2.3158 - val_accuracy: 0.1333\n",
            "Epoch 4/50\n",
            "1/1 [==============================] - 3s 3s/step - loss: 2.3213 - accuracy: 0.1000 - val_loss: 2.2316 - val_accuracy: 0.2000\n",
            "Epoch 5/50\n",
            "1/1 [==============================] - 3s 3s/step - loss: 2.2373 - accuracy: 0.1000 - val_loss: 2.2333 - val_accuracy: 0.1000\n",
            "Epoch 6/50\n",
            "1/1 [==============================] - 3s 3s/step - loss: 2.2481 - accuracy: 0.1000 - val_loss: 2.2192 - val_accuracy: 0.2667\n",
            "Epoch 7/50\n",
            "1/1 [==============================] - 3s 3s/step - loss: 2.2283 - accuracy: 0.1667 - val_loss: 2.1323 - val_accuracy: 0.3333\n",
            "Epoch 8/50\n",
            "1/1 [==============================] - 3s 3s/step - loss: 2.1358 - accuracy: 0.3000 - val_loss: 2.1095 - val_accuracy: 0.2333\n",
            "Epoch 9/50\n",
            "1/1 [==============================] - 3s 3s/step - loss: 2.1170 - accuracy: 0.2667 - val_loss: 2.0222 - val_accuracy: 0.3333\n",
            "Epoch 10/50\n",
            "1/1 [==============================] - 3s 3s/step - loss: 2.0291 - accuracy: 0.3333 - val_loss: 1.9330 - val_accuracy: 0.5333\n",
            "Epoch 11/50\n",
            "1/1 [==============================] - 3s 3s/step - loss: 1.9515 - accuracy: 0.5667 - val_loss: 1.8903 - val_accuracy: 0.5667\n",
            "Epoch 12/50\n",
            "1/1 [==============================] - 3s 3s/step - loss: 1.8965 - accuracy: 0.5333 - val_loss: 1.7527 - val_accuracy: 0.5667\n",
            "Epoch 13/50\n",
            "1/1 [==============================] - 3s 3s/step - loss: 1.7001 - accuracy: 0.6333 - val_loss: 1.5372 - val_accuracy: 0.6667\n",
            "Epoch 14/50\n",
            "1/1 [==============================] - 3s 3s/step - loss: 1.6076 - accuracy: 0.6000 - val_loss: 1.4743 - val_accuracy: 0.5333\n",
            "Epoch 15/50\n",
            "1/1 [==============================] - 3s 3s/step - loss: 1.4283 - accuracy: 0.7000 - val_loss: 1.2992 - val_accuracy: 0.7667\n",
            "Epoch 16/50\n",
            "1/1 [==============================] - 3s 3s/step - loss: 1.3913 - accuracy: 0.5667 - val_loss: 1.2544 - val_accuracy: 0.6667\n",
            "Epoch 17/50\n",
            "1/1 [==============================] - 3s 3s/step - loss: 1.2072 - accuracy: 0.7000 - val_loss: 0.9946 - val_accuracy: 0.8000\n",
            "Epoch 18/50\n",
            "1/1 [==============================] - 3s 3s/step - loss: 1.1259 - accuracy: 0.6333 - val_loss: 0.8862 - val_accuracy: 0.8667\n",
            "Epoch 19/50\n",
            "1/1 [==============================] - 3s 3s/step - loss: 0.8987 - accuracy: 0.8000 - val_loss: 0.7828 - val_accuracy: 0.7667\n",
            "Epoch 20/50\n",
            "1/1 [==============================] - 3s 3s/step - loss: 0.9017 - accuracy: 0.7667 - val_loss: 0.7045 - val_accuracy: 0.8000\n",
            "Epoch 21/50\n",
            "1/1 [==============================] - 3s 3s/step - loss: 0.6227 - accuracy: 0.9667 - val_loss: 0.5624 - val_accuracy: 0.9333\n",
            "Epoch 22/50\n",
            "1/1 [==============================] - 3s 3s/step - loss: 0.5884 - accuracy: 0.9000 - val_loss: 0.3445 - val_accuracy: 0.9333\n",
            "Epoch 23/50\n",
            "1/1 [==============================] - 3s 3s/step - loss: 0.5832 - accuracy: 0.8333 - val_loss: 0.4550 - val_accuracy: 0.8667\n",
            "Epoch 24/50\n",
            "1/1 [==============================] - 3s 3s/step - loss: 0.4837 - accuracy: 0.8000 - val_loss: 0.3381 - val_accuracy: 0.8333\n",
            "Epoch 25/50\n",
            "1/1 [==============================] - 3s 3s/step - loss: 0.3366 - accuracy: 0.9000 - val_loss: 0.3159 - val_accuracy: 0.9667\n",
            "Epoch 26/50\n",
            "1/1 [==============================] - 3s 3s/step - loss: 0.3237 - accuracy: 0.9333 - val_loss: 0.2286 - val_accuracy: 0.9667\n",
            "Epoch 27/50\n",
            "1/1 [==============================] - 3s 3s/step - loss: 0.2614 - accuracy: 0.9333 - val_loss: 0.2161 - val_accuracy: 0.9667\n",
            "Epoch 28/50\n",
            "1/1 [==============================] - 3s 3s/step - loss: 0.1351 - accuracy: 1.0000 - val_loss: 0.1530 - val_accuracy: 0.9667\n",
            "Epoch 29/50\n",
            "1/1 [==============================] - 3s 3s/step - loss: 0.1505 - accuracy: 1.0000 - val_loss: 0.1059 - val_accuracy: 0.9667\n",
            "Epoch 30/50\n",
            "1/1 [==============================] - 3s 3s/step - loss: 0.0767 - accuracy: 1.0000 - val_loss: 0.0778 - val_accuracy: 1.0000\n",
            "Epoch 31/50\n",
            "1/1 [==============================] - 3s 3s/step - loss: 0.1050 - accuracy: 1.0000 - val_loss: 0.0745 - val_accuracy: 1.0000\n",
            "Epoch 32/50\n",
            "1/1 [==============================] - 3s 3s/step - loss: 0.0988 - accuracy: 1.0000 - val_loss: 0.1150 - val_accuracy: 1.0000\n",
            "Epoch 33/50\n",
            "1/1 [==============================] - 3s 3s/step - loss: 0.0920 - accuracy: 1.0000 - val_loss: 0.1062 - val_accuracy: 0.9667\n",
            "Epoch 34/50\n",
            "1/1 [==============================] - 3s 3s/step - loss: 0.1353 - accuracy: 0.9333 - val_loss: 0.2353 - val_accuracy: 0.9333\n",
            "Epoch 35/50\n",
            "1/1 [==============================] - 3s 3s/step - loss: 0.1289 - accuracy: 0.9333 - val_loss: 0.0606 - val_accuracy: 1.0000\n",
            "Epoch 36/50\n",
            "1/1 [==============================] - 3s 3s/step - loss: 0.0607 - accuracy: 1.0000 - val_loss: 0.0430 - val_accuracy: 1.0000\n",
            "Epoch 37/50\n",
            "1/1 [==============================] - 3s 3s/step - loss: 0.0696 - accuracy: 1.0000 - val_loss: 0.0347 - val_accuracy: 1.0000\n",
            "Epoch 38/50\n",
            "1/1 [==============================] - 3s 3s/step - loss: 0.0487 - accuracy: 0.9667 - val_loss: 0.0204 - val_accuracy: 1.0000\n",
            "Epoch 39/50\n",
            "1/1 [==============================] - 3s 3s/step - loss: 0.0567 - accuracy: 1.0000 - val_loss: 0.0605 - val_accuracy: 0.9667\n",
            "Epoch 40/50\n",
            "1/1 [==============================] - 3s 3s/step - loss: 0.0338 - accuracy: 1.0000 - val_loss: 0.0509 - val_accuracy: 1.0000\n",
            "Epoch 41/50\n",
            "1/1 [==============================] - 3s 3s/step - loss: 0.0866 - accuracy: 0.9333 - val_loss: 0.0146 - val_accuracy: 1.0000\n",
            "Epoch 42/50\n",
            "1/1 [==============================] - 3s 3s/step - loss: 0.0359 - accuracy: 1.0000 - val_loss: 0.1414 - val_accuracy: 0.9667\n",
            "Epoch 43/50\n",
            "1/1 [==============================] - 3s 3s/step - loss: 0.0657 - accuracy: 0.9667 - val_loss: 0.1337 - val_accuracy: 0.9667\n",
            "Epoch 44/50\n",
            "1/1 [==============================] - 3s 3s/step - loss: 0.1538 - accuracy: 0.9000 - val_loss: 0.0788 - val_accuracy: 0.9667\n",
            "Epoch 45/50\n",
            "1/1 [==============================] - 3s 3s/step - loss: 0.1549 - accuracy: 0.9333 - val_loss: 0.5697 - val_accuracy: 0.8000\n",
            "Epoch 46/50\n",
            "1/1 [==============================] - 3s 3s/step - loss: 0.5491 - accuracy: 0.7667 - val_loss: 0.0569 - val_accuracy: 0.9667\n",
            "Epoch 47/50\n",
            "1/1 [==============================] - 5s 5s/step - loss: 0.0825 - accuracy: 1.0000 - val_loss: 0.7470 - val_accuracy: 0.8667\n",
            "Epoch 48/50\n",
            "1/1 [==============================] - 3s 3s/step - loss: 0.7138 - accuracy: 0.8000 - val_loss: 0.6661 - val_accuracy: 0.9000\n",
            "Epoch 49/50\n",
            "1/1 [==============================] - 3s 3s/step - loss: 0.6226 - accuracy: 0.9000 - val_loss: 0.2832 - val_accuracy: 0.9333\n",
            "Epoch 50/50\n",
            "1/1 [==============================] - 3s 3s/step - loss: 0.1776 - accuracy: 0.9000 - val_loss: 0.0552 - val_accuracy: 1.0000\n"
          ]
        }
      ]
    },
    {
      "cell_type": "code",
      "source": [
        "model.save('BTVN-CNN-FOOD.h5')"
      ],
      "metadata": {
        "id": "4kQMFJwMuYyV"
      },
      "execution_count": null,
      "outputs": []
    },
    {
      "cell_type": "code",
      "source": [
        "label = ['BanhMi','BanhXeo','BunBo','MiQuang','BunThitNuong','ComSuon','Goi','GoiCuon','Nem','Pho']"
      ],
      "metadata": {
        "id": "S7IoFEH6ucF6"
      },
      "execution_count": null,
      "outputs": []
    },
    {
      "cell_type": "code",
      "source": [
        "from google.colab import drive\n",
        "drive.mount('/content/drive')"
      ],
      "metadata": {
        "colab": {
          "base_uri": "https://localhost:8080/"
        },
        "id": "u5tp0H1yx0Y_",
        "outputId": "38acd899-f481-46b4-de76-6905be365b8d"
      },
      "execution_count": null,
      "outputs": [
        {
          "output_type": "stream",
          "name": "stdout",
          "text": [
            "Drive already mounted at /content/drive; to attempt to forcibly remount, call drive.mount(\"/content/drive\", force_remount=True).\n"
          ]
        }
      ]
    },
    {
      "cell_type": "code",
      "source": [
        "import matplotlib.pyplot as plt\n",
        "score = model.evaluate(test,verbose=0)\n",
        "print('Test loss= ',score[0])\n",
        "print('Test accuracy= ',score[1])\n",
        "plt.plot(history.history['accuracy'])\n",
        "plt.plot(history.history['val_accuracy'])\n",
        "plt.title('Model Accuracy')\n",
        "plt.ylabel('accuracy')\n",
        "plt.xlabel('epoch')\n",
        "plt.legend(['train','validation'],loc='upper left')"
      ],
      "metadata": {
        "colab": {
          "base_uri": "https://localhost:8080/",
          "height": 347
        },
        "id": "wqHR5ooFueSs",
        "outputId": "a4339537-13ed-4431-d477-f4e4550b9fdd"
      },
      "execution_count": null,
      "outputs": [
        {
          "output_type": "stream",
          "name": "stdout",
          "text": [
            "Test loss=  0.09408795833587646\n",
            "Test accuracy=  0.9666666388511658\n"
          ]
        },
        {
          "output_type": "execute_result",
          "data": {
            "text/plain": [
              "<matplotlib.legend.Legend at 0x7f3b6ebfcf50>"
            ]
          },
          "metadata": {},
          "execution_count": 8
        },
        {
          "output_type": "display_data",
          "data": {
            "text/plain": [
              "<Figure size 432x288 with 1 Axes>"
            ],
            "image/png": "[encoded data removed]"
          },
          "metadata": {
            "needs_background": "light"
          }
        }
      ]
    },
    {
      "cell_type": "code",
      "source": [
        "from keras.models import load_model\n",
        "model = load_model('BTVN-CNN-FOOD.h5')"
      ],
      "metadata": {
        "id": "ISSf3vIlulA5"
      },
      "execution_count": null,
      "outputs": []
    },
    {
      "cell_type": "code",
      "source": [
        "import numpy as np\n",
        "from tensorflow.keras.utils import load_img,img_to_array\n",
        "img = load_img('/com suon test.jpg', target_size = (128,128))\n",
        "plt.imshow(img)\n",
        "img = img_to_array(img)\n",
        "img = img.reshape(1,128,128,3) \n",
        "img = img.astype('float32')\n",
        "img = img/255\n",
        "print(label[np.argmax(model.predict(img))])"
      ],
      "metadata": {
        "colab": {
          "base_uri": "https://localhost:8080/",
          "height": 381
        },
        "id": "0ElRkj8tunN1",
        "outputId": "0b37d3da-1029-4909-d548-a311b2587e64"
      },
      "execution_count": 1,
      "outputs": [
        {
          "output_type": "error",
          "ename": "FileNotFoundError",
          "evalue": "ignored",
          "traceback": [
            "\u001b[0;31m---------------------------------------------------------------------------\u001b[0m",
            "\u001b[0;31mFileNotFoundError\u001b[0m                         Traceback (most recent call last)",
            "\u001b[0;32m<ipython-input-1-939d5220e23b>\u001b[0m in \u001b[0;36m<module>\u001b[0;34m()\u001b[0m\n\u001b[1;32m      1\u001b[0m \u001b[0;32mimport\u001b[0m \u001b[0mnumpy\u001b[0m \u001b[0;32mas\u001b[0m \u001b[0mnp\u001b[0m\u001b[0;34m\u001b[0m\u001b[0;34m\u001b[0m\u001b[0m\n\u001b[1;32m      2\u001b[0m \u001b[0;32mfrom\u001b[0m \u001b[0mtensorflow\u001b[0m\u001b[0;34m.\u001b[0m\u001b[0mkeras\u001b[0m\u001b[0;34m.\u001b[0m\u001b[0mutils\u001b[0m \u001b[0;32mimport\u001b[0m \u001b[0mload_img\u001b[0m\u001b[0;34m,\u001b[0m\u001b[0mimg_to_array\u001b[0m\u001b[0;34m\u001b[0m\u001b[0;34m\u001b[0m\u001b[0m\n\u001b[0;32m----> 3\u001b[0;31m \u001b[0mimg\u001b[0m \u001b[0;34m=\u001b[0m \u001b[0mload_img\u001b[0m\u001b[0;34m(\u001b[0m\u001b[0;34m'/com suon test.jpg'\u001b[0m\u001b[0;34m,\u001b[0m \u001b[0mtarget_size\u001b[0m \u001b[0;34m=\u001b[0m \u001b[0;34m(\u001b[0m\u001b[0;36m128\u001b[0m\u001b[0;34m,\u001b[0m\u001b[0;36m128\u001b[0m\u001b[0;34m)\u001b[0m\u001b[0;34m)\u001b[0m\u001b[0;34m\u001b[0m\u001b[0;34m\u001b[0m\u001b[0m\n\u001b[0m\u001b[1;32m      4\u001b[0m \u001b[0mplt\u001b[0m\u001b[0;34m.\u001b[0m\u001b[0mimshow\u001b[0m\u001b[0;34m(\u001b[0m\u001b[0mimg\u001b[0m\u001b[0;34m)\u001b[0m\u001b[0;34m\u001b[0m\u001b[0;34m\u001b[0m\u001b[0m\n\u001b[1;32m      5\u001b[0m \u001b[0mimg\u001b[0m \u001b[0;34m=\u001b[0m \u001b[0mimg_to_array\u001b[0m\u001b[0;34m(\u001b[0m\u001b[0mimg\u001b[0m\u001b[0;34m)\u001b[0m\u001b[0;34m\u001b[0m\u001b[0;34m\u001b[0m\u001b[0m\n",
            "\u001b[0;32m/usr/local/lib/python3.7/dist-packages/keras/preprocessing/image.py\u001b[0m in \u001b[0;36mload_img\u001b[0;34m(path, grayscale, color_mode, target_size, interpolation)\u001b[0m\n\u001b[1;32m    312\u001b[0m   \"\"\"\n\u001b[1;32m    313\u001b[0m   return image.load_img(path, grayscale=grayscale, color_mode=color_mode,\n\u001b[0;32m--> 314\u001b[0;31m                         target_size=target_size, interpolation=interpolation)\n\u001b[0m\u001b[1;32m    315\u001b[0m \u001b[0;34m\u001b[0m\u001b[0m\n\u001b[1;32m    316\u001b[0m \u001b[0;34m\u001b[0m\u001b[0m\n",
            "\u001b[0;32m/usr/local/lib/python3.7/dist-packages/keras_preprocessing/image/utils.py\u001b[0m in \u001b[0;36mload_img\u001b[0;34m(path, grayscale, color_mode, target_size, interpolation)\u001b[0m\n\u001b[1;32m    111\u001b[0m         raise ImportError('Could not import PIL.Image. '\n\u001b[1;32m    112\u001b[0m                           'The use of `load_img` requires PIL.')\n\u001b[0;32m--> 113\u001b[0;31m     \u001b[0;32mwith\u001b[0m \u001b[0mopen\u001b[0m\u001b[0;34m(\u001b[0m\u001b[0mpath\u001b[0m\u001b[0;34m,\u001b[0m \u001b[0;34m'rb'\u001b[0m\u001b[0;34m)\u001b[0m \u001b[0;32mas\u001b[0m \u001b[0mf\u001b[0m\u001b[0;34m:\u001b[0m\u001b[0;34m\u001b[0m\u001b[0;34m\u001b[0m\u001b[0m\n\u001b[0m\u001b[1;32m    114\u001b[0m         \u001b[0mimg\u001b[0m \u001b[0;34m=\u001b[0m \u001b[0mpil_image\u001b[0m\u001b[0;34m.\u001b[0m\u001b[0mopen\u001b[0m\u001b[0;34m(\u001b[0m\u001b[0mio\u001b[0m\u001b[0;34m.\u001b[0m\u001b[0mBytesIO\u001b[0m\u001b[0;34m(\u001b[0m\u001b[0mf\u001b[0m\u001b[0;34m.\u001b[0m\u001b[0mread\u001b[0m\u001b[0;34m(\u001b[0m\u001b[0;34m)\u001b[0m\u001b[0;34m)\u001b[0m\u001b[0;34m)\u001b[0m\u001b[0;34m\u001b[0m\u001b[0;34m\u001b[0m\u001b[0m\n\u001b[1;32m    115\u001b[0m         \u001b[0;32mif\u001b[0m \u001b[0mcolor_mode\u001b[0m \u001b[0;34m==\u001b[0m \u001b[0;34m'grayscale'\u001b[0m\u001b[0;34m:\u001b[0m\u001b[0;34m\u001b[0m\u001b[0;34m\u001b[0m\u001b[0m\n",
            "\u001b[0;31mFileNotFoundError\u001b[0m: [Errno 2] No such file or directory: '/com suon test.jpg'"
          ]
        }
      ]
    }
  ]
}